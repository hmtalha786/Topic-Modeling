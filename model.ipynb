{
 "cells": [
  {
   "cell_type": "code",
   "execution_count": 22,
   "id": "6fd76135",
   "metadata": {},
   "outputs": [],
   "source": [
    "import re\n",
    "import string\n",
    "import nltk"
   ]
  },
  {
   "cell_type": "code",
   "execution_count": 23,
   "id": "4a80745e",
   "metadata": {},
   "outputs": [],
   "source": [
    "from gensim import corpora\n",
    "from gensim.models import LdaModel"
   ]
  },
  {
   "cell_type": "code",
   "execution_count": 24,
   "id": "924d356e",
   "metadata": {},
   "outputs": [],
   "source": [
    "from nltk.tokenize import word_tokenize\n",
    "from nltk.corpus import stopwords\n",
    "from nltk.stem import WordNetLemmatizer"
   ]
  },
  {
   "cell_type": "code",
   "execution_count": 25,
   "id": "59586769",
   "metadata": {},
   "outputs": [
    {
     "name": "stderr",
     "output_type": "stream",
     "text": [
      "[nltk_data] Downloading package punkt to\n",
      "[nltk_data]     C:\\Users\\HMT\\AppData\\Roaming\\nltk_data...\n",
      "[nltk_data]   Package punkt is already up-to-date!\n",
      "[nltk_data] Downloading package stopwords to\n",
      "[nltk_data]     C:\\Users\\HMT\\AppData\\Roaming\\nltk_data...\n",
      "[nltk_data]   Package stopwords is already up-to-date!\n",
      "[nltk_data] Downloading package wordnet to\n",
      "[nltk_data]     C:\\Users\\HMT\\AppData\\Roaming\\nltk_data...\n",
      "[nltk_data]   Package wordnet is already up-to-date!\n"
     ]
    },
    {
     "data": {
      "text/plain": [
       "True"
      ]
     },
     "execution_count": 25,
     "metadata": {},
     "output_type": "execute_result"
    }
   ],
   "source": [
    "nltk.download('punkt')\n",
    "nltk.download('stopwords')\n",
    "nltk.download('wordnet')"
   ]
  },
  {
   "cell_type": "code",
   "execution_count": 29,
   "id": "1d7038f1",
   "metadata": {},
   "outputs": [],
   "source": [
    "# Function to preprocess text\n",
    "def preprocess_text(text):\n",
    "    \n",
    "    tokens = word_tokenize(text.lower())\n",
    "    \n",
    "    tokens = [word for word in tokens if word.isalpha() and word not in set(stopwords.words('english'))]\n",
    "    \n",
    "    lemmatizer = WordNetLemmatizer()\n",
    "    \n",
    "    tokens = [lemmatizer.lemmatize(word) for word in tokens]\n",
    "    \n",
    "    # Create a dictionary and a corpus\n",
    "    dictionary = corpora.Dictionary([tokens])\n",
    "    corpus = [dictionary.doc2bow(tokens)]\n",
    "\n",
    "    # Build the LDA model\n",
    "    lda_model = LdaModel(corpus, num_topics=5, id2word=dictionary, passes=15)\n",
    "\n",
    "    # Print the top 5 dominant topics\n",
    "    top_topics = lda_model.print_topics(num_topics=5, num_words=5)\n",
    "    \n",
    "    topics = []\n",
    "\n",
    "    for topic_number, words in top_topics:\n",
    "        topics.append(re.findall(r'\"(.*?)\"', f\"Topic {topic_number + 1}: {words}\"))\n",
    "\n",
    "    # Flatten the nested list\n",
    "    flat_list = [item for sublist in topics for item in sublist]\n",
    "\n",
    "    # Remove duplicates by converting to a set and back to a list\n",
    "    unique_list = list(set(flat_list))\n",
    "    \n",
    "    return unique_list"
   ]
  },
  {
   "cell_type": "code",
   "execution_count": 30,
   "id": "0b795c3f",
   "metadata": {},
   "outputs": [],
   "source": [
    "# Sample text\n",
    "sample_text = \"The Ministry of Finance made these remarks in its latest monthly economic report released on Thursday. Despite securing a last-minute deal with the International Monetary Fund (IMF) in July, Pakistan’s economy remains engulfed in a myriad of challenges. The State Bank of Pakistan (SBP) has maintained its key policy rate at 22% since last year’s summer, while the government has struggled to contain rising debt, which ballooned to Rs65.188 trillion at the end of December 2023 compared to Rs 60.841 trillion at the end of June 2023. The central bank is due to hold its next monetary policy committee meeting on March 18 with some analysts suggesting that easing may well be on its way. Meanwhile, the Ministry of Finance said that despite the domestic challenges, “there is some optimism regarding Pakistan’s export markets”.\""
   ]
  },
  {
   "cell_type": "code",
   "execution_count": 32,
   "id": "3d4cf223",
   "metadata": {},
   "outputs": [
    {
     "name": "stdout",
     "output_type": "stream",
     "text": [
      "['ministry', 'challenge', 'despite', 'end', 'trillion', 'finance', 'monetary', 'pakistan', 'bank', 'policy']\n"
     ]
    }
   ],
   "source": [
    "print(preprocess_text(sample_text))"
   ]
  },
  {
   "cell_type": "code",
   "execution_count": null,
   "id": "b668278b",
   "metadata": {},
   "outputs": [],
   "source": []
  }
 ],
 "metadata": {
  "kernelspec": {
   "display_name": "Python 3 (ipykernel)",
   "language": "python",
   "name": "python3"
  },
  "language_info": {
   "codemirror_mode": {
    "name": "ipython",
    "version": 3
   },
   "file_extension": ".py",
   "mimetype": "text/x-python",
   "name": "python",
   "nbconvert_exporter": "python",
   "pygments_lexer": "ipython3",
   "version": "3.11.5"
  }
 },
 "nbformat": 4,
 "nbformat_minor": 5
}
